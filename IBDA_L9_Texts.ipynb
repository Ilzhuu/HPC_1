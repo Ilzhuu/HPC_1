{
  "cells": [
    {
      "cell_type": "markdown",
      "metadata": {
        "id": "view-in-github",
        "colab_type": "text"
      },
      "source": [
        "<a href=\"https://colab.research.google.com/github/Ilzhuu/HPC_1/blob/main/IBDA_L9_Texts.ipynb\" target=\"_parent\"><img src=\"https://colab.research.google.com/assets/colab-badge.svg\" alt=\"Open In Colab\"/></a>"
      ]
    },
    {
      "cell_type": "markdown",
      "metadata": {
        "id": "FkVNCtDrHDJG"
      },
      "source": [
        "# Plan for today\n",
        "\n",
        "*   Build an example text input predictor model\n",
        "*   Learn to Interpret the results\n",
        "*   Build you own text input predictor\n",
        "\n"
      ]
    },
    {
      "cell_type": "markdown",
      "metadata": {
        "id": "fxdNuN9WI0Et"
      },
      "source": [
        "# Building predictive model\n",
        "\n",
        "### Our tasks:\n",
        "\n",
        "*   Getting some data - tweets, blogs, news articles, etc...\n",
        "*   Cleaning them from punctuation, emotionals, numbers and other odd things\n",
        "*   Build a corpus from the cleaned data\n",
        "*   Build a nGram model\n",
        "*   Use the model to predict the next input\n",
        "\n"
      ]
    },
    {
      "cell_type": "markdown",
      "source": [
        "### Source of data sets: https://www.kaggle.com/datasets/crmercado/tweets-blogs-news-swiftkey-dataset-4million"
      ],
      "metadata": {
        "id": "Uuk1Vi0Akhl2"
      }
    },
    {
      "cell_type": "markdown",
      "metadata": {
        "id": "s7x0ORZsJVsc"
      },
      "source": [
        "## Connecting to Google drive"
      ]
    },
    {
      "cell_type": "code",
      "execution_count": 2,
      "metadata": {
        "colab": {
          "base_uri": "https://localhost:8080/"
        },
        "id": "97SPCHTFCRUD",
        "outputId": "2f2c33a0-2940-4c64-8580-7634688bade3"
      },
      "outputs": [
        {
          "output_type": "stream",
          "name": "stdout",
          "text": [
            "Mounted at /content/gdrive\n"
          ]
        }
      ],
      "source": [
        "# Connecting to your Google drive\n",
        "\n",
        "from google.colab import drive\n",
        "drive.mount('/content/gdrive')"
      ]
    },
    {
      "cell_type": "code",
      "execution_count": null,
      "metadata": {
        "id": "_iT26n9-M6ck"
      },
      "outputs": [],
      "source": [
        "# Getting the drive content\n",
        "import os\n",
        "os.chdir(\"/content/gdrive/MyDrive/Colab Notebooks\")\n",
        "!ls"
      ]
    },
    {
      "cell_type": "markdown",
      "metadata": {
        "id": "QFIbR4TbXDRV"
      },
      "source": [
        "## TWEETS example"
      ]
    },
    {
      "cell_type": "markdown",
      "metadata": {
        "id": "tV-dhw7ZSTxi"
      },
      "source": [
        "### Cleaning the data"
      ]
    },
    {
      "cell_type": "code",
      "execution_count": null,
      "metadata": {
        "colab": {
          "base_uri": "https://localhost:8080/"
        },
        "id": "j2iykitsNS0E",
        "outputId": "e40135d8-1a42-4040-f454-df55c2723143"
      },
      "outputs": [
        {
          "output_type": "stream",
          "name": "stdout",
          "text": [
            "2360148\n",
            "How are you? Btw thanks for the RT. You gonna be in DC anytime soon? Love to see you. Been way, way too long.\n",
            "\n",
            "When you meet someone special... you'll know. Your heart will beat more rapidly and you'll smile for no reason.\n",
            "\n",
            "they've decided its more fun if I don't.\n",
            "\n",
            "So Tired D; Played Lazer Tag & Ran A LOT D; Ughh Going To Sleep Like In 5 Minutes ;)\n",
            "\n",
            "Words from a complete stranger! Made my birthday even better :)\n",
            "\n",
            "First Cubs game ever! Wrigley field is gorgeous. This is perfect. Go Cubs Go!\n",
            "\n",
            "i no! i get another day off from skool due to the wonderful snow (: and THIS wakes me up...damn thing\n",
            "\n",
            "I'm coo... Jus at work hella tired r u ever in cali\n",
            "\n",
            "The new sundrop commercial ...hehe love at first sight\n",
            "\n",
            "we need to reconnect THIS WEEK\n",
            "\n",
            "I always wonder how the guys on the auctions shows learned to talk so fast!? all I hear is djsosnekspqnslanskam.\n",
            "\n",
            "Dammnnnnn what a catch\n",
            "\n",
            "such a great picture! The green shirt totally brings out your eyes!\n",
            "\n",
            "Desk put together, room all set up. Oh boy, oh boy\n",
            "\n",
            "I'm doing it!👦\n",
            "\n",
            "Beauty Brainstorming in the Alchemy office with and Sally Walker!\n",
            "\n",
            "Looking for a new band to blog for the month. anyone interested?\n",
            "\n",
            "Packing for a quick move down the street... If only I had some movers...\n",
            "\n",
            "ford focus hatchback?\n",
            "\n",
            "RT : According to the National Retail Federation $16.3 BILLION was spent on #MothersDay last year!!\n",
            "\n",
            "2000\n"
          ]
        }
      ],
      "source": [
        "import pandas as pd\n",
        "\n",
        "# Reding file \"tweets.txt\"\n",
        "file = open(\"tweets.txt\", \"r\")\n",
        "TWEETS_raw = file.readlines()\n",
        "print(len(TWEETS_raw))\n",
        "\n",
        "for i in range(20): # printing only first 20 rows\n",
        "    print(TWEETS_raw[i])\n",
        "\n",
        "TWEETS_short = TWEETS_raw[:2000]\n",
        "print(len(TWEETS_short))\n"
      ]
    },
    {
      "cell_type": "code",
      "execution_count": null,
      "metadata": {
        "colab": {
          "base_uri": "https://localhost:8080/"
        },
        "id": "FIWpD5nKSawH",
        "outputId": "758bd698-3777-4894-ac3f-25a8a2d2d5d0"
      },
      "outputs": [
        {
          "output_type": "stream",
          "name": "stdout",
          "text": [
            "2360148\n",
            "how are you btw thanks for the rt you gonna be in dc anytime soon love to see you been way way too long\n",
            "\n",
            "when you meet someone special youll know your heart will beat more rapidly and youll smile for no reason\n",
            "\n",
            "theyve decided its more fun if i dont\n",
            "\n",
            "so tired d played lazer tag  ran a lot d ughh going to sleep like in 5 minutes \n",
            "\n",
            "words from a complete stranger made my birthday even better \n",
            "\n",
            "first cubs game ever wrigley field is gorgeous this is perfect go cubs go\n",
            "\n",
            "i no i get another day off from skool due to the wonderful snow  and this wakes me updamn thing\n",
            "\n",
            "im coo jus at work hella tired r u ever in cali\n",
            "\n",
            "the new sundrop commercial hehe love at first sight\n",
            "\n",
            "we need to reconnect this week\n",
            "\n",
            "i always wonder how the guys on the auctions shows learned to talk so fast all i hear is djsosnekspqnslanskam\n",
            "\n",
            "dammnnnnn what a catch\n",
            "\n",
            "such a great picture the green shirt totally brings out your eyes\n",
            "\n",
            "desk put together room all set up oh boy oh boy\n",
            "\n",
            "im doing it\n",
            "\n",
            "beauty brainstorming in the alchemy office with and sally walker\n",
            "\n",
            "looking for a new band to blog for the month anyone interested\n",
            "\n",
            "packing for a quick move down the street if only i had some movers\n",
            "\n",
            "ford focus hatchback\n",
            "\n",
            "rt  according to the national retail federation $163 billion was spent on #mothersday last year\n",
            "\n"
          ]
        }
      ],
      "source": [
        "# Executing symbol replacement rules\n",
        "TWEETS = []\n",
        "\n",
        "#for line in TWEETS_short: #  ŠĪ IR TĀ VIETA, KAS MAINA SITUĀCIJU - JA LIETOJAM TWEETS_short, laiks nav problēma. Ja TWEETS_raw, tad vekotrizējot aiziet laiks pāris stundas (vēl nav izpildījies)\n",
        "for line in TWEETS_raw:\n",
        "  line = line.replace('\\'','')\n",
        "  line = line.replace('?','')\n",
        "  line = line.replace('!','')\n",
        "  line = line.replace(':','')\n",
        "  line = line.replace(';','')\n",
        "  line = line.replace(')','')\n",
        "  line = line.replace('(','')\n",
        "  line = line.replace('-','')\n",
        "  line = line.replace('_','')\n",
        "  line = line.replace('.','')\n",
        "  line = line.replace(',','')\n",
        "  line = line.replace('&','')\n",
        "  line = line.replace('👦','')\n",
        "  line = line.replace('\\d+', '')\n",
        "\n",
        "  TWEETS.append(line.lower())\n",
        "\n",
        "print(len(TWEETS))\n",
        "\n",
        "for i in range(20): # printing only first 20 rows\n",
        "    print(TWEETS[i])\n"
      ]
    },
    {
      "cell_type": "code",
      "execution_count": null,
      "metadata": {
        "colab": {
          "base_uri": "https://localhost:8080/"
        },
        "id": "ZNB0lsD4WGVt",
        "outputId": "7bc24cd3-1689-4701-c339-6d72405837fa"
      },
      "outputs": [
        {
          "output_type": "stream",
          "name": "stderr",
          "text": [
            "IOPub data rate exceeded.\n",
            "The notebook server will temporarily stop sending output\n",
            "to the client in order to avoid crashing it.\n",
            "To change this limit, set the config variable\n",
            "`--NotebookApp.iopub_data_rate_limit`.\n",
            "\n",
            "Current values:\n",
            "NotebookApp.iopub_data_rate_limit=1000000.0 (bytes/sec)\n",
            "NotebookApp.rate_limit_window=3.0 (secs)\n",
            "\n"
          ]
        },
        {
          "output_type": "stream",
          "name": "stdout",
          "text": [
            "['00' '000' '0000' ... 'ｒｔ' 'ｿﾛﾗｲﾌﾞ' 'ﾉﾉ']\n",
            "482082\n"
          ]
        }
      ],
      "source": [
        "# Vectorization - process of turning a collection of text documents into numerical feature vectors\n",
        "\n",
        "from sklearn.feature_extraction.text import CountVectorizer\n",
        "\n",
        "TWEETS_singleline = ' '.join(TWEETS)                          # All lines are joined into a single line (for simplicity reasons)\n",
        "TWEETS_singleline = TWEETS_singleline.replace('\\n','')        # Removing 'new line' symbols\n",
        "print(TWEETS_singleline)                                      # Debug ouput\n",
        "\n",
        "vectorizer2 = CountVectorizer(analyzer='word')                # Building a word count vector transformer\n",
        "X2 = vectorizer2.fit_transform([TWEETS_singleline])           # Building the word count vector matrix\n",
        "print(vectorizer2.get_feature_names_out())\n",
        "print(len(vectorizer2.get_feature_names_out()))                   # Debug output - matrix shape"
      ]
    },
    {
      "cell_type": "code",
      "execution_count": null,
      "metadata": {
        "colab": {
          "base_uri": "https://localhost:8080/"
        },
        "id": "KBKc_lzMWcGO",
        "outputId": "f5dad0e6-fec5-417b-a213-a30ba9cd998f"
      },
      "outputs": [
        {
          "output_type": "stream",
          "name": "stdout",
          "text": [
            "[[181  38   8 ...   1   1   1]]\n",
            "(1, 482082)\n"
          ]
        }
      ],
      "source": [
        "print(X2.toarray())                                           # Debug output\n",
        "print(X2.shape)                                               # debug output"
      ]
    },
    {
      "cell_type": "markdown",
      "metadata": {
        "id": "f1y3bLR2W8WW"
      },
      "source": [
        "### Building the quantitative model"
      ]
    },
    {
      "cell_type": "code",
      "execution_count": null,
      "metadata": {
        "colab": {
          "base_uri": "https://localhost:8080/"
        },
        "id": "93dKSJ_YgmJ1",
        "outputId": "1f7d644f-790d-4ec5-ae2e-465ab014bac7"
      },
      "outputs": [
        {
          "output_type": "stream",
          "name": "stdout",
          "text": [
            "(1, 482082)\n",
            "9.379967830672851e-05\n"
          ]
        }
      ],
      "source": [
        "from sklearn.feature_extraction.text import TfidfTransformer  # Frequency transformer - counts to frequencies\n",
        "# Transform a count matrix to a normalized tf or tf-idf representation. Tf means term-frequency while tf-idf means term-frequency times inverse document-frequency.\n",
        "\n",
        "import numpy as np\n",
        "import pandas as pd\n",
        "\n",
        "tf_transformer = TfidfTransformer(use_idf=False).fit(X2)      # Creating the transformer instance\n",
        "X2_tf = tf_transformer.transform(X2)                          # Applying the transformer\n",
        "print(X2_tf.shape)                                            # Debug output\n",
        "print(X2_tf[0,0])                                             # Debug output"
      ]
    },
    {
      "cell_type": "code",
      "execution_count": null,
      "metadata": {
        "id": "Kn3Nc1dIIw7I",
        "colab": {
          "base_uri": "https://localhost:8080/",
          "height": 433
        },
        "outputId": "71258490-ca07-4cf9-c4c9-782ad8fd66a7"
      },
      "outputs": [
        {
          "output_type": "error",
          "ename": "KeyboardInterrupt",
          "evalue": "ignored",
          "traceback": [
            "\u001b[0;31m---------------------------------------------------------------------------\u001b[0m",
            "\u001b[0;31mKeyboardInterrupt\u001b[0m                         Traceback (most recent call last)",
            "\u001b[0;32m<ipython-input-20-2545a60e6fb6>\u001b[0m in \u001b[0;36m<cell line: 5>\u001b[0;34m()\u001b[0m\n\u001b[1;32m      5\u001b[0m \u001b[0;32mfor\u001b[0m \u001b[0mi\u001b[0m \u001b[0;32min\u001b[0m \u001b[0mrange\u001b[0m\u001b[0;34m(\u001b[0m\u001b[0;36m0\u001b[0m\u001b[0;34m,\u001b[0m\u001b[0mlen\u001b[0m\u001b[0;34m(\u001b[0m\u001b[0mUniqueWords\u001b[0m\u001b[0;34m)\u001b[0m\u001b[0;34m)\u001b[0m\u001b[0;34m:\u001b[0m  \u001b[0;31m# Filling the data frame with data Unique word, Frequency\u001b[0m\u001b[0;34m\u001b[0m\u001b[0;34m\u001b[0m\u001b[0m\n\u001b[1;32m      6\u001b[0m   \u001b[0mword\u001b[0m \u001b[0;34m=\u001b[0m \u001b[0mUniqueWords\u001b[0m\u001b[0;34m[\u001b[0m\u001b[0mi\u001b[0m\u001b[0;34m]\u001b[0m\u001b[0;34m\u001b[0m\u001b[0;34m\u001b[0m\u001b[0m\n\u001b[0;32m----> 7\u001b[0;31m   \u001b[0mfreq\u001b[0m \u001b[0;34m=\u001b[0m \u001b[0mX2_tf\u001b[0m\u001b[0;34m[\u001b[0m\u001b[0;36m0\u001b[0m\u001b[0;34m,\u001b[0m\u001b[0mi\u001b[0m\u001b[0;34m]\u001b[0m\u001b[0;34m\u001b[0m\u001b[0;34m\u001b[0m\u001b[0m\n\u001b[0m\u001b[1;32m      8\u001b[0m   \u001b[0mlst\u001b[0m\u001b[0;34m.\u001b[0m\u001b[0mappend\u001b[0m\u001b[0;34m(\u001b[0m\u001b[0;34m{\u001b[0m\u001b[0;34m'Words'\u001b[0m\u001b[0;34m:\u001b[0m \u001b[0mword\u001b[0m\u001b[0;34m,\u001b[0m \u001b[0;34m'Frequency'\u001b[0m\u001b[0;34m:\u001b[0m\u001b[0mfreq\u001b[0m\u001b[0;34m}\u001b[0m\u001b[0;34m)\u001b[0m\u001b[0;34m\u001b[0m\u001b[0;34m\u001b[0m\u001b[0m\n\u001b[1;32m      9\u001b[0m   \u001b[0;31m#WordUse_DF = WordUse_DF.append({'Words': word, 'Frequency':freq})\u001b[0m\u001b[0;34m\u001b[0m\u001b[0;34m\u001b[0m\u001b[0m\n",
            "\u001b[0;32m/usr/local/lib/python3.10/dist-packages/scipy/sparse/_index.py\u001b[0m in \u001b[0;36m__getitem__\u001b[0;34m(self, key)\u001b[0m\n\u001b[1;32m     47\u001b[0m         \u001b[0;32mif\u001b[0m \u001b[0misinstance\u001b[0m\u001b[0;34m(\u001b[0m\u001b[0mrow\u001b[0m\u001b[0;34m,\u001b[0m \u001b[0mINT_TYPES\u001b[0m\u001b[0;34m)\u001b[0m\u001b[0;34m:\u001b[0m\u001b[0;34m\u001b[0m\u001b[0;34m\u001b[0m\u001b[0m\n\u001b[1;32m     48\u001b[0m             \u001b[0;32mif\u001b[0m \u001b[0misinstance\u001b[0m\u001b[0;34m(\u001b[0m\u001b[0mcol\u001b[0m\u001b[0;34m,\u001b[0m \u001b[0mINT_TYPES\u001b[0m\u001b[0;34m)\u001b[0m\u001b[0;34m:\u001b[0m\u001b[0;34m\u001b[0m\u001b[0;34m\u001b[0m\u001b[0m\n\u001b[0;32m---> 49\u001b[0;31m                 \u001b[0;32mreturn\u001b[0m \u001b[0mself\u001b[0m\u001b[0;34m.\u001b[0m\u001b[0m_get_intXint\u001b[0m\u001b[0;34m(\u001b[0m\u001b[0mrow\u001b[0m\u001b[0;34m,\u001b[0m \u001b[0mcol\u001b[0m\u001b[0;34m)\u001b[0m\u001b[0;34m\u001b[0m\u001b[0;34m\u001b[0m\u001b[0m\n\u001b[0m\u001b[1;32m     50\u001b[0m             \u001b[0;32melif\u001b[0m \u001b[0misinstance\u001b[0m\u001b[0;34m(\u001b[0m\u001b[0mcol\u001b[0m\u001b[0;34m,\u001b[0m \u001b[0mslice\u001b[0m\u001b[0;34m)\u001b[0m\u001b[0;34m:\u001b[0m\u001b[0;34m\u001b[0m\u001b[0;34m\u001b[0m\u001b[0m\n\u001b[1;32m     51\u001b[0m                 \u001b[0mself\u001b[0m\u001b[0;34m.\u001b[0m\u001b[0m_raise_on_1d_array_slice\u001b[0m\u001b[0;34m(\u001b[0m\u001b[0;34m)\u001b[0m\u001b[0;34m\u001b[0m\u001b[0;34m\u001b[0m\u001b[0m\n",
            "\u001b[0;32m/usr/local/lib/python3.10/dist-packages/scipy/sparse/_compressed.py\u001b[0m in \u001b[0;36m_get_intXint\u001b[0;34m(self, row, col)\u001b[0m\n\u001b[1;32m    654\u001b[0m         \u001b[0mM\u001b[0m\u001b[0;34m,\u001b[0m \u001b[0mN\u001b[0m \u001b[0;34m=\u001b[0m \u001b[0mself\u001b[0m\u001b[0;34m.\u001b[0m\u001b[0m_swap\u001b[0m\u001b[0;34m(\u001b[0m\u001b[0mself\u001b[0m\u001b[0;34m.\u001b[0m\u001b[0mshape\u001b[0m\u001b[0;34m)\u001b[0m\u001b[0;34m\u001b[0m\u001b[0;34m\u001b[0m\u001b[0m\n\u001b[1;32m    655\u001b[0m         \u001b[0mmajor\u001b[0m\u001b[0;34m,\u001b[0m \u001b[0mminor\u001b[0m \u001b[0;34m=\u001b[0m \u001b[0mself\u001b[0m\u001b[0;34m.\u001b[0m\u001b[0m_swap\u001b[0m\u001b[0;34m(\u001b[0m\u001b[0;34m(\u001b[0m\u001b[0mrow\u001b[0m\u001b[0;34m,\u001b[0m \u001b[0mcol\u001b[0m\u001b[0;34m)\u001b[0m\u001b[0;34m)\u001b[0m\u001b[0;34m\u001b[0m\u001b[0;34m\u001b[0m\u001b[0m\n\u001b[0;32m--> 656\u001b[0;31m         indptr, indices, data = get_csr_submatrix(\n\u001b[0m\u001b[1;32m    657\u001b[0m             \u001b[0mM\u001b[0m\u001b[0;34m,\u001b[0m \u001b[0mN\u001b[0m\u001b[0;34m,\u001b[0m \u001b[0mself\u001b[0m\u001b[0;34m.\u001b[0m\u001b[0mindptr\u001b[0m\u001b[0;34m,\u001b[0m \u001b[0mself\u001b[0m\u001b[0;34m.\u001b[0m\u001b[0mindices\u001b[0m\u001b[0;34m,\u001b[0m \u001b[0mself\u001b[0m\u001b[0;34m.\u001b[0m\u001b[0mdata\u001b[0m\u001b[0;34m,\u001b[0m\u001b[0;34m\u001b[0m\u001b[0;34m\u001b[0m\u001b[0m\n\u001b[1;32m    658\u001b[0m             major, major + 1, minor, minor + 1)\n",
            "\u001b[0;31mKeyboardInterrupt\u001b[0m: "
          ]
        }
      ],
      "source": [
        "UniqueWords = vectorizer2.get_feature_names_out()                 # Getting unique words in a separate list for conveniece\n",
        "\n",
        "\n",
        "lst = [] #creating a list for output and prediction purposes\n",
        "for i in range(0,len(UniqueWords)):  # Filling the data frame with data Unique word, Frequency\n",
        "  word = UniqueWords[i]\n",
        "  freq = X2_tf[0,i]\n",
        "  lst.append({'Words': word, 'Frequency':freq})\n",
        "  #WordUse_DF = WordUse_DF.append({'Words': word, 'Frequency':freq})\n",
        "WordUse_DF = pd.DataFrame(lst, columns=['Words','Frequency'], ignore_index=True)      # Creating a dataframe out of the list\n",
        "WordUse_DF = WordUse_DF.sort_values(by=['Frequency'], ascending=False)  # Sorting the data by frequency - highest first\n",
        "WordUse_DF = WordUse_DF.set_index('Words')                              # Setting index for data selection\n",
        "WordUse_DF['Words'] =  WordUse_DF.index.values                          # Creating a separate column for prediction needs\n",
        "\n",
        "WordUse_DF_short = WordUse_DF.head(50)                                        # selecting the first 50 most frequent words\n",
        "\n",
        "print( WordUse_DF_short)\n",
        "print('Done ....')"
      ]
    },
    {
      "cell_type": "markdown",
      "source": [],
      "metadata": {
        "id": "fcU7-48vXTs5"
      }
    },
    {
      "cell_type": "code",
      "execution_count": null,
      "metadata": {
        "id": "pAAVwnXELjT5",
        "colab": {
          "base_uri": "https://localhost:8080/",
          "height": 384
        },
        "outputId": "81226fd5-ad5c-4ca6-bb99-1ea5bfd8c570"
      },
      "outputs": [
        {
          "output_type": "execute_result",
          "data": {
            "text/plain": [
              "<Axes: xlabel='Words'>"
            ]
          },
          "metadata": {},
          "execution_count": 11
        },
        {
          "output_type": "display_data",
          "data": {
            "text/plain": [
              "<Figure size 1600x800 with 1 Axes>"
            ],
            "image/png": "[encoded data removed]"
          },
          "metadata": {}
        }
      ],
      "source": [
        "WordUse_DF_short.plot(kind='bar',figsize=(16,8), color='#86bf91')             # PLotting the frequencies"
      ]
    },
    {
      "cell_type": "markdown",
      "metadata": {
        "id": "fWHFrglEP2Oe"
      },
      "source": [
        "### A simple predictor\n",
        "\n",
        "Predictor is based on slecting the most frequent word having a beginning of the word as an input"
      ]
    },
    {
      "cell_type": "code",
      "execution_count": null,
      "metadata": {
        "colab": {
          "base_uri": "https://localhost:8080/"
        },
        "id": "RfaFnkkCP1cH",
        "outputId": "619e69b2-5722-40df-cca6-364be92c4552"
      },
      "outputs": [
        {
          "output_type": "stream",
          "name": "stdout",
          "text": [
            "['class' 'claim' 'classifying' 'classic' 'classes' 'clark' 'clan']\n"
          ]
        }
      ],
      "source": [
        "input = 'cla'                                                    # The first letter of input word\n",
        "output = WordUse_DF[WordUse_DF.Words.str.startswith(input)]     # Selecting matching words\n",
        "print(output['Words'].head(10).values)                           # Selecting the top frequent one\n"
      ]
    },
    {
      "cell_type": "markdown",
      "metadata": {
        "id": "pE6a2uo9ZuCj"
      },
      "source": [
        "# Your own work\n",
        "\n",
        "1.  Download data set 'blogs_short.txt' from the Ortus space\n",
        "2.  Upload it to **your** Google Drive\n",
        "3.  Perform a data cleaning\n",
        "4.  Check the cleaning result\n",
        "5.  Implement a quantitative model and visualize it\n",
        "6.  What are the differences comparing BLOGS and TWEETS?\n",
        "7.  Implement and check the predictor\n",
        "\n"
      ]
    },
    {
      "cell_type": "code",
      "source": [
        "# Your own code"
      ],
      "metadata": {
        "id": "mB5e_hz4SmOb"
      },
      "execution_count": null,
      "outputs": []
    },
    {
      "cell_type": "code",
      "source": [],
      "metadata": {
        "id": "-G7ftTrNZjyy"
      },
      "execution_count": null,
      "outputs": []
    },
    {
      "cell_type": "markdown",
      "source": [
        "## Part of Solution"
      ],
      "metadata": {
        "id": "0sEZGHEzSe9y"
      }
    },
    {
      "cell_type": "code",
      "execution_count": null,
      "metadata": {
        "id": "ozxHndIDas-I"
      },
      "outputs": [],
      "source": [
        "# Reding file \"NEWS.txt\"\n",
        "file = open(\"NEWS.txt\", \"r\")\n",
        "NEWS_raw = file.readlines()\n",
        "for line in NEWS_raw:\n",
        "  print(line)"
      ]
    },
    {
      "cell_type": "code",
      "execution_count": null,
      "metadata": {
        "id": "-u4_thpZa0dz"
      },
      "outputs": [],
      "source": [
        "# Executing symbol replacement rules\n",
        "NEWS = []\n",
        "\n",
        "for line in NEWS_raw:\n",
        "  line = line.replace('\\'','')\n",
        "  line = line.replace('?','')\n",
        "  line = line.replace('!','')\n",
        "  line = line.replace(':','')\n",
        "  line = line.replace(';','')\n",
        "  line = line.replace(')','')\n",
        "  line = line.replace('(','')\n",
        "  line = line.replace('-','')\n",
        "  line = line.replace('_','')\n",
        "  line = line.replace('.','')\n",
        "  line = line.replace(',','')\n",
        "  line = line.replace('&','')\n",
        "  line = line.replace('\\d+', '')\n",
        "\n",
        "  # CHECK for the numericals !!!!!!\n",
        "\n",
        "  NEWS.append(line.lower())\n",
        "\n",
        "for line in NEWS:\n",
        "  print(line)\n",
        "print(len(NEWS))"
      ]
    },
    {
      "cell_type": "code",
      "execution_count": null,
      "metadata": {
        "id": "3TC5sudNbzXz"
      },
      "outputs": [],
      "source": [
        "from sklearn.feature_extraction.text import CountVectorizer\n",
        "\n",
        "NEWS_singleline = ' '.join(NEWS)                            # All lines are joined into a single line (for simplicity reasons)\n",
        "NEWS_singleline = NEWS_singleline.replace('\\n','')          # Removing 'new line' symbols\n",
        "print(NEWS_singleline)                                      # Debug ouput\n",
        "\n",
        "vectorizer2 = CountVectorizer(analyzer='word')                # Building a word count vector transformer\n",
        "X2 = vectorizer2.fit_transform([NEWS_singleline])             # Building the word count vector matrix\n",
        "print(vectorizer2.get_feature_names())                        # Debug output - unique word (token) output\n",
        "print(len(vectorizer2.get_feature_names()))                   # Debug output - matrix shape"
      ]
    },
    {
      "cell_type": "code",
      "source": [],
      "metadata": {
        "id": "4QpfsXbbZgXH"
      },
      "execution_count": null,
      "outputs": []
    },
    {
      "cell_type": "markdown",
      "source": [],
      "metadata": {
        "id": "coVLkJ09Zf-j"
      }
    }
  ],
  "metadata": {
    "colab": {
      "collapsed_sections": [
        "FkVNCtDrHDJG",
        "s7x0ORZsJVsc",
        "tV-dhw7ZSTxi"
      ],
      "provenance": [],
      "include_colab_link": true
    },
    "kernelspec": {
      "display_name": "Python 3",
      "name": "python3"
    },
    "language_info": {
      "name": "python"
    }
  },
  "nbformat": 4,
  "nbformat_minor": 0
}